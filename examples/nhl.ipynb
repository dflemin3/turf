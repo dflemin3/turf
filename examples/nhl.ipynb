{
 "cells": [
  {
   "cell_type": "markdown",
   "id": "bcfec6b6-bb86-4624-8abe-7642ab786746",
   "metadata": {},
   "source": [
    "### NHL inference and simulation with `turf`\n",
    "\n",
    "---\n",
    "\n",
    "This notebook runs a hierarchical Bayesian inference model on 2023 NHL season results to estimate team offensive and defensive strengths, visualize the results, and simulate game outcomes.\n",
    "\n",
    "David Fleming, 2023"
   ]
  },
  {
   "cell_type": "code",
   "execution_count": 1,
   "id": "cfb4bf78",
   "metadata": {},
   "outputs": [],
   "source": [
    "import numpy as np\n",
    "import pandas as pd\n",
    "import pymc as pm\n",
    "import arviz as az\n",
    "from turf import scrape, utils, inference\n",
    "\n",
    "import matplotlib\n",
    "import matplotlib.pyplot as plt\n",
    "import seaborn as sns"
   ]
  },
  {
   "cell_type": "markdown",
   "id": "e6030d26",
   "metadata": {},
   "source": [
    "**Initiate and fit model**\n",
    "\n",
    "---\n"
   ]
  },
  {
   "cell_type": "code",
   "execution_count": 2,
   "id": "06f76cc8",
   "metadata": {},
   "outputs": [],
   "source": [
    "# Pull season results to-date\n",
    "season = scrape.NHLSeason(year=2018, regulation_adjustment=False)\n",
    "season.save(\"../src/turf/data/nhl_sample.csv\")"
   ]
  },
  {
   "cell_type": "code",
   "execution_count": 3,
   "id": "8266af6a",
   "metadata": {},
   "outputs": [],
   "source": [
    "# Initialize model\n",
    "model = inference.IndependentNegativeBinomialMixture(season)"
   ]
  },
  {
   "cell_type": "code",
   "execution_count": null,
   "id": "d1d8cc9c",
   "metadata": {},
   "outputs": [],
   "source": [
    "# Visualize model\n",
    "pm.model_graph.model_to_graphviz(model.model)"
   ]
  },
  {
   "cell_type": "code",
   "execution_count": null,
   "id": "c9254a5e",
   "metadata": {},
   "outputs": [],
   "source": [
    "# Run inference on 4 cores (1 chain per core)\n",
    "model.run_inference(tune=2000, draws=1000, target_accept=0.95, chains=4)"
   ]
  },
  {
   "cell_type": "code",
   "execution_count": null,
   "id": "555b4701",
   "metadata": {},
   "outputs": [],
   "source": [
    "# Examine full posterior distributions and trace for select parameters\n",
    "axes = az.plot_trace(model.trace_, compact=True, var_names=[\"intercept\", \"home\",\n",
    "                                                            \"atts\", \"defs\", \"mu_att\", \"sigma_att\",\n",
    "                                                            \"mu_def\", \"sigma_def\"],\n",
    "                     combined=True)\n",
    "\n",
    "for ii in range(axes.shape[0]):\n",
    "    for jj in range(axes.shape[1]):\n",
    "        ax = axes[ii,jj]\n",
    "        sns.despine(ax=ax)\n",
    "ax.get_figure().tight_layout()"
   ]
  },
  {
   "cell_type": "code",
   "execution_count": null,
   "id": "fc82dcf3-150b-4b70-9576-51d93b04e771",
   "metadata": {},
   "outputs": [],
   "source": [
    "# Examine MCMC statistics to check convergence\n",
    "az.summary(model.trace_, group='posterior', var_names=['mu'], filter_vars='like')"
   ]
  },
  {
   "cell_type": "code",
   "execution_count": null,
   "id": "efc9f84c",
   "metadata": {},
   "outputs": [],
   "source": [
    "# Same as above, but visualizing energy of chain transition\n",
    "# Should be ~1 for good convergence\n",
    "ax = az.plot_energy(model.trace_, kind='hist')\n",
    "sns.despine(ax=ax)"
   ]
  },
  {
   "cell_type": "code",
   "execution_count": null,
   "id": "e43dd77e-6943-4e8b-a1f0-6d20ec080ead",
   "metadata": {},
   "outputs": [],
   "source": [
    "# Team names, medians, CIs, and colors\n",
    "team_names = model.trace_.posterior.coords['teams'].values\n",
    "\n",
    "# Calculate median, 68% CI for atts, defs for each team\n",
    "med_atts = model.trace_.posterior[\"atts\"].median(axis=1).median(axis=0).values\n",
    "med_defs = model.trace_.posterior[\"defs\"].median(axis=1).median(axis=0).values\n",
    "\n",
    "# Calculate median, 68% CI for atts, defs for each team, convert to numpy arrays\n",
    "defs_CI = az.hdi(model.trace_, var_names=[\"defs\"], hdi_prob=0.68)\n",
    "defs_CI = defs_CI.to_array().values[0]\n",
    "\n",
    "atts_CI = az.hdi(model.trace_, var_names=[\"atts\"], hdi_prob=0.68)\n",
    "atts_CI = atts_CI.to_array().values[0]\n",
    "\n",
    "# Get primary and secondary colors for pretty plots\n",
    "pri_colors = list(map(lambda x : utils._hex_color_nhl[f\"{x}_0\"], team_names))\n",
    "sec_colors = list(map(lambda x : utils._hex_color_nhl[f\"{x}_1\"], team_names))"
   ]
  },
  {
   "cell_type": "code",
   "execution_count": null,
   "id": "50ba5fe5",
   "metadata": {},
   "outputs": [],
   "source": [
    "# Plot ordered attacking strength\n",
    "fig, ax = plt.subplots(figsize=(10,4))\n",
    "\n",
    "# Order values by worst to best attacking\n",
    "inds = np.argsort(med_atts)\n",
    "\n",
    "x = np.arange(len(med_atts))\n",
    "for ii in range(len(x)):\n",
    "    ax.errorbar(x[ii], med_atts[inds[ii]], \n",
    "                yerr=np.asarray([med_atts[inds[ii]] - atts_CI[inds[ii],0], atts_CI[inds[ii],1] - med_atts[inds[ii]]]).reshape(2,1),\n",
    "                fmt='o', color=pri_colors[inds[ii]])\n",
    "\n",
    "ax.axhline(0, lw=2, ls=\"--\", color=\"k\", zorder=0)\n",
    "ax.set_xlabel('')\n",
    "ax.set_ylabel(r'Posterior offensive strength\\nMore positive is better$\\longrightarrow$')\n",
    "_ = ax.set_xticks(x)\n",
    "_ = ax.set_xticklabels(model._coords[\"teams\"][inds], rotation=45)\n",
    "sns.despine(ax=ax)"
   ]
  },
  {
   "cell_type": "code",
   "execution_count": null,
   "id": "c89a2634",
   "metadata": {},
   "outputs": [],
   "source": [
    "# Plot ordered attacking strength\n",
    "fig, ax = plt.subplots(figsize=(10,4))\n",
    "\n",
    "# Order values by worst to best attacking\n",
    "inds = np.argsort(med_defs)[::-1]\n",
    "\n",
    "x = np.arange(len(med_defs))\n",
    "for ii in range(len(x)):\n",
    "    ax.errorbar(x[ii], med_defs[inds[ii]], \n",
    "                yerr=np.asarray([med_defs[inds[ii]] - defs_CI[inds[ii],0], defs_CI[inds[ii],1] - med_defs[inds[ii]]]).reshape(2,1),\n",
    "                fmt='o', color=pri_colors[inds[ii]])\n",
    "\n",
    "ax.axhline(0, lw=2, ls=\"--\", color=\"k\", zorder=0)\n",
    "ax.set_xlabel('Team')\n",
    "ax.set_ylabel(r'Posterior defensive strength\\n$\\longleftarrow$More negative is better')\n",
    "_ = ax.set_xticks(x)\n",
    "_ = ax.set_xticklabels(model._coords[\"teams\"][inds], rotation=45)\n",
    "sns.despine(ax=ax)"
   ]
  },
  {
   "cell_type": "code",
   "execution_count": null,
   "id": "69f9690a",
   "metadata": {},
   "outputs": [],
   "source": [
    "# Plot offensive and defensive strength together\n",
    "fig, ax = plt.subplots(figsize=(5,4))\n",
    "\n",
    "im = ax.scatter(med_defs, med_atts, s=60, zorder=1, c=pri_colors)\n",
    "ax.axhline(0, lw=1.5, ls=\"--\", color=\"grey\", zorder=0)\n",
    "ax.axvline(0, lw=1.5, ls=\"--\", color=\"grey\", zorder=0)\n",
    "\n",
    "ax.set_xlabel(r'Posterior defensive strength\\n$\\longleftarrow$Lower is better')\n",
    "ax.set_ylabel(r'Posterior offensive strength\\nHigher is better$\\longrightarrow$')\n",
    "ax.set_xlim(-0.25, 0.25)\n",
    "ax.set_ylim(-0.25, 0.25)\n",
    "sns.despine(ax=ax)"
   ]
  },
  {
   "cell_type": "markdown",
   "id": "4f88762a",
   "metadata": {},
   "source": [
    "**Simulate many games**\n",
    "\n",
    "---\n",
    "\n",
    "Simulate NFL results to estimate who will win, with what probability, and similar inferences for over/unders, moneyline, and spreads."
   ]
  },
  {
   "cell_type": "code",
   "execution_count": null,
   "id": "2f4efcf7",
   "metadata": {},
   "outputs": [],
   "source": [
    "away_teams = [\"EDM\"]\n",
    "home_teams = [\"FLA\"]\n",
    "ous = [5.5]\n",
    "home_spread = [-1.5]\n",
    "n_most = 3\n",
    "\n",
    "for home_team, away_team, ou, hs, ii, in zip(home_teams, away_teams, ous, home_spread, np.arange(len(home_teams))):\n",
    "\n",
    "    # Simulate n game outcomes\n",
    "    home_pts, away_pts, home_win, tie = model.simulate_game(home_team, away_team, n=25000, seed=None,\n",
    "                                                            tie_breaker_pt=True)\n",
    "    \n",
    "    # Estimate, output prob of given bet\n",
    "    total = home_pts + away_pts\n",
    "    odds = np.mean(total > ou)\n",
    "    cover = np.mean(home_pts - away_pts > -hs)\n",
    "    home_ml = np.mean(home_pts > away_pts)\n",
    "    print(f\"---{away_team} at {home_team}---\")\n",
    "    print(f\"O/U: {ou} - Over odds : {np.round(100*odds, decimals=0):.0f}%\")\n",
    "    print(f\"Spread: {home_team} {home_spread[ii]} - odds of {home_team} cover : {np.round(100*cover, decimals=0):.0f}%\") \n",
    "    print(f\"ML: - odds of {home_team} ML : {np.round(100*home_ml, decimals=0):.0f}%\")\n",
    "\n",
    "    # Estimate, output n_most likely game outcomes\n",
    "    if n_most is not None:\n",
    "        print(\"Most likely game outcomes:\")\n",
    "        results = pd.DataFrame({\"home_pts\" : home_pts, \"away_pts\" : away_pts})\n",
    "        results[\"pair\"] = results.apply(lambda x : f\"({x['home_pts']},{x['away_pts']})\", axis=1)\n",
    "        results = results.groupby('pair').count().reset_index().rename(columns={'home_pts' : 'counts'})[['pair', 'counts']].copy()\n",
    "        results['counts'] = (100 * results['counts']) / (results['counts'].sum())\n",
    "        res = results.sort_values(by='counts', ascending=False).head(n_most).values\n",
    "        for ii in range(len(res)):\n",
    "            t, prob = res[ii]\n",
    "            home_score = int(t.split(',')[0].replace('(', ''))\n",
    "            away_score = int(t.split(',')[-1].replace(')', ''))\n",
    "            print(f\"\\t{home_team} : {home_score}, {away_team} : {away_score} with probability {prob:.0f}%\")\n",
    "\n",
    "    print(\"\")"
   ]
  },
  {
   "cell_type": "markdown",
   "id": "babca68e",
   "metadata": {},
   "source": [
    "**Examine posterior predictive distribution**\n",
    "\n",
    "---\n",
    "\n",
    "Simple model evaluation method to see if model can reproduce season total points distribution."
   ]
  },
  {
   "cell_type": "code",
   "execution_count": null,
   "id": "2028295b",
   "metadata": {},
   "outputs": [],
   "source": [
    "# Sample from posterior predictive distribution\n",
    "with model.model:\n",
    "    model.trace_.extend(pm.sample_posterior_predictive(model.trace_))"
   ]
  },
  {
   "cell_type": "code",
   "execution_count": null,
   "id": "38abbf51",
   "metadata": {},
   "outputs": [],
   "source": [
    "ax = az.plot_ppc(model.trace_, kind='kde', num_pp_samples=1000, group='posterior')\n",
    "sns.despine(ax=ax)\n",
    "ax.set_xlim(0, 12)\n",
    "ax.set_xlabel(\"Total points\")\n",
    "ax.set_ylabel(\"Probability density\");"
   ]
  },
  {
   "cell_type": "code",
   "execution_count": null,
   "id": "df857457-2c38-49ae-8fb5-bfbf4a76d343",
   "metadata": {},
   "outputs": [],
   "source": [
    "ax = az.plot_ppc(model.trace_, kind='cumulative', num_pp_samples=1000, group='posterior')\n",
    "sns.despine(ax=ax)\n",
    "ax.set_xlim(0, 12)\n",
    "ax.set_xlabel(\"Total points\")\n",
    "ax.set_ylabel(\"Cumulative probability\");"
   ]
  },
  {
   "cell_type": "code",
   "execution_count": null,
   "id": "2e009dda-e149-4272-a206-e97e18186fa8",
   "metadata": {},
   "outputs": [],
   "source": []
  }
 ],
 "metadata": {
  "kernelspec": {
   "display_name": "Python 3 (ipykernel)",
   "language": "python",
   "name": "python3"
  },
  "language_info": {
   "codemirror_mode": {
    "name": "ipython",
    "version": 3
   },
   "file_extension": ".py",
   "mimetype": "text/x-python",
   "name": "python",
   "nbconvert_exporter": "python",
   "pygments_lexer": "ipython3",
   "version": "3.12.3"
  }
 },
 "nbformat": 4,
 "nbformat_minor": 5
}
