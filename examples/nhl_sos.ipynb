{
 "cells": [
  {
   "cell_type": "markdown",
   "id": "bcfec6b6-bb86-4624-8abe-7642ab786746",
   "metadata": {},
   "source": [
    "### NHL strength of schedule estimation with `turf`\n",
    "\n",
    "---\n",
    "\n",
    "This notebook estimates a team's strength of schedule for the games a team has `played`, for the remaining `unplayed` games, and for the `full` season. Here, we estimate the strength of schedule for a set of games as the winning percentage of the median team if it were to play the schedule.\n",
    "\n",
    "David Fleming, 2023"
   ]
  },
  {
   "cell_type": "code",
   "execution_count": 1,
   "id": "cfb4bf78",
   "metadata": {},
   "outputs": [],
   "source": [
    "import numpy as np\n",
    "import pymc as pm\n",
    "import arviz as az\n",
    "from datetime import datetime\n",
    "from turf import scrape, utils, inference\n",
    "\n",
    "import matplotlib\n",
    "import matplotlib.pyplot as plt\n",
    "import seaborn as sns"
   ]
  },
  {
   "cell_type": "markdown",
   "id": "e6030d26",
   "metadata": {},
   "source": [
    "**Initiate and fit model**\n",
    "\n",
    "---\n"
   ]
  },
  {
   "cell_type": "code",
   "execution_count": 2,
   "id": "5ed26e08-2881-4943-b09b-8b7dec13cb0b",
   "metadata": {},
   "outputs": [
    {
     "name": "stdout",
     "output_type": "stream",
     "text": [
      "Ran on 2024-11-18...\n"
     ]
    }
   ],
   "source": [
    "print(f\"Ran on {datetime.today().strftime('%Y-%m-%d')}...\")"
   ]
  },
  {
   "cell_type": "code",
   "execution_count": 3,
   "id": "06f76cc8",
   "metadata": {},
   "outputs": [],
   "source": [
    "# Pull season results to-date\n",
    "season = scrape.NHLSeason(year=2024)"
   ]
  },
  {
   "cell_type": "code",
   "execution_count": 4,
   "id": "8266af6a",
   "metadata": {},
   "outputs": [],
   "source": [
    "# Initialize model\n",
    "model = inference.IndependentNegativeBinomialMixture(season)"
   ]
  },
  {
   "cell_type": "code",
   "execution_count": 5,
   "id": "c9254a5e",
   "metadata": {},
   "outputs": [
    {
     "name": "stderr",
     "output_type": "stream",
     "text": [
      "Auto-assigning NUTS sampler...\n",
      "Initializing NUTS using jitter+adapt_diag...\n",
      "Multiprocess sampling (4 chains in 4 jobs)\n",
      "NUTS: [home, intercept, att_weights_unscaled, def_weights_unscaled, mu_att, mu_def, sigma_att, sigma_def, alpha, att_star_offset, def_star_offset]\n"
     ]
    },
    {
     "data": {
      "application/vnd.jupyter.widget-view+json": {
       "model_id": "c49f759e81d54262b3e4270687221dab",
       "version_major": 2,
       "version_minor": 0
      },
      "text/plain": [
       "Output()"
      ]
     },
     "metadata": {},
     "output_type": "display_data"
    },
    {
     "data": {
      "text/html": [
       "<pre style=\"white-space:pre;overflow-x:auto;line-height:normal;font-family:Menlo,'DejaVu Sans Mono',consolas,'Courier New',monospace\"></pre>\n"
      ],
      "text/plain": []
     },
     "metadata": {},
     "output_type": "display_data"
    },
    {
     "data": {
      "text/html": [
       "<pre style=\"white-space:pre;overflow-x:auto;line-height:normal;font-family:Menlo,'DejaVu Sans Mono',consolas,'Courier New',monospace\">\n",
       "</pre>\n"
      ],
      "text/plain": [
       "\n"
      ]
     },
     "metadata": {},
     "output_type": "display_data"
    },
    {
     "name": "stderr",
     "output_type": "stream",
     "text": [
      "Sampling 4 chains for 2_000 tune and 1_000 draw iterations (8_000 + 4_000 draws total) took 96 seconds.\n"
     ]
    }
   ],
   "source": [
    "# Run inference on 4 cores (1 chain per core)\n",
    "model.run_inference(tune=2000, draws=1000, target_accept=0.95, chains=4)"
   ]
  },
  {
   "cell_type": "code",
   "execution_count": 6,
   "id": "0e7ecda5",
   "metadata": {},
   "outputs": [
    {
     "data": {
      "text/html": [
       "<div>\n",
       "<style scoped>\n",
       "    .dataframe tbody tr th:only-of-type {\n",
       "        vertical-align: middle;\n",
       "    }\n",
       "\n",
       "    .dataframe tbody tr th {\n",
       "        vertical-align: top;\n",
       "    }\n",
       "\n",
       "    .dataframe thead th {\n",
       "        text-align: right;\n",
       "    }\n",
       "</style>\n",
       "<table border=\"1\" class=\"dataframe\">\n",
       "  <thead>\n",
       "    <tr style=\"text-align: right;\">\n",
       "      <th></th>\n",
       "      <th>mean</th>\n",
       "      <th>sd</th>\n",
       "      <th>hdi_3%</th>\n",
       "      <th>hdi_97%</th>\n",
       "      <th>mcse_mean</th>\n",
       "      <th>mcse_sd</th>\n",
       "      <th>ess_bulk</th>\n",
       "      <th>ess_tail</th>\n",
       "      <th>r_hat</th>\n",
       "    </tr>\n",
       "  </thead>\n",
       "  <tbody>\n",
       "    <tr>\n",
       "      <th>mu_att[bad]</th>\n",
       "      <td>-0.059</td>\n",
       "      <td>0.598</td>\n",
       "      <td>-1.177</td>\n",
       "      <td>1.098</td>\n",
       "      <td>0.016</td>\n",
       "      <td>0.011</td>\n",
       "      <td>1430.0</td>\n",
       "      <td>2226.0</td>\n",
       "      <td>1.00</td>\n",
       "    </tr>\n",
       "    <tr>\n",
       "      <th>mu_att[average]</th>\n",
       "      <td>0.003</td>\n",
       "      <td>0.591</td>\n",
       "      <td>-1.140</td>\n",
       "      <td>1.077</td>\n",
       "      <td>0.016</td>\n",
       "      <td>0.011</td>\n",
       "      <td>1452.0</td>\n",
       "      <td>2431.0</td>\n",
       "      <td>1.00</td>\n",
       "    </tr>\n",
       "    <tr>\n",
       "      <th>mu_att[good]</th>\n",
       "      <td>0.040</td>\n",
       "      <td>0.595</td>\n",
       "      <td>-1.156</td>\n",
       "      <td>1.094</td>\n",
       "      <td>0.016</td>\n",
       "      <td>0.011</td>\n",
       "      <td>1453.0</td>\n",
       "      <td>2195.0</td>\n",
       "      <td>1.00</td>\n",
       "    </tr>\n",
       "    <tr>\n",
       "      <th>mu_def[bad]</th>\n",
       "      <td>0.033</td>\n",
       "      <td>0.596</td>\n",
       "      <td>-1.066</td>\n",
       "      <td>1.152</td>\n",
       "      <td>0.015</td>\n",
       "      <td>0.010</td>\n",
       "      <td>1632.0</td>\n",
       "      <td>2242.0</td>\n",
       "      <td>1.01</td>\n",
       "    </tr>\n",
       "    <tr>\n",
       "      <th>mu_def[average]</th>\n",
       "      <td>-0.008</td>\n",
       "      <td>0.605</td>\n",
       "      <td>-1.128</td>\n",
       "      <td>1.105</td>\n",
       "      <td>0.016</td>\n",
       "      <td>0.011</td>\n",
       "      <td>1494.0</td>\n",
       "      <td>2151.0</td>\n",
       "      <td>1.00</td>\n",
       "    </tr>\n",
       "    <tr>\n",
       "      <th>mu_def[good]</th>\n",
       "      <td>-0.052</td>\n",
       "      <td>0.602</td>\n",
       "      <td>-1.196</td>\n",
       "      <td>1.045</td>\n",
       "      <td>0.015</td>\n",
       "      <td>0.011</td>\n",
       "      <td>1577.0</td>\n",
       "      <td>2354.0</td>\n",
       "      <td>1.00</td>\n",
       "    </tr>\n",
       "  </tbody>\n",
       "</table>\n",
       "</div>"
      ],
      "text/plain": [
       "                  mean     sd  hdi_3%  hdi_97%  mcse_mean  mcse_sd  ess_bulk  \\\n",
       "mu_att[bad]     -0.059  0.598  -1.177    1.098      0.016    0.011    1430.0   \n",
       "mu_att[average]  0.003  0.591  -1.140    1.077      0.016    0.011    1452.0   \n",
       "mu_att[good]     0.040  0.595  -1.156    1.094      0.016    0.011    1453.0   \n",
       "mu_def[bad]      0.033  0.596  -1.066    1.152      0.015    0.010    1632.0   \n",
       "mu_def[average] -0.008  0.605  -1.128    1.105      0.016    0.011    1494.0   \n",
       "mu_def[good]    -0.052  0.602  -1.196    1.045      0.015    0.011    1577.0   \n",
       "\n",
       "                 ess_tail  r_hat  \n",
       "mu_att[bad]        2226.0   1.00  \n",
       "mu_att[average]    2431.0   1.00  \n",
       "mu_att[good]       2195.0   1.00  \n",
       "mu_def[bad]        2242.0   1.01  \n",
       "mu_def[average]    2151.0   1.00  \n",
       "mu_def[good]       2354.0   1.00  "
      ]
     },
     "execution_count": 6,
     "metadata": {},
     "output_type": "execute_result"
    }
   ],
   "source": [
    "# Examine MCMC statistics to check convergence\n",
    "az.summary(model.trace_, group='posterior', var_names=['mu'], filter_vars='like')"
   ]
  },
  {
   "cell_type": "code",
   "execution_count": 7,
   "id": "efc9f84c",
   "metadata": {},
   "outputs": [
    {
     "data": {
      "image/png": "[encoded data removed]",
      "text/plain": [
       "<Figure size 640x480 with 1 Axes>"
      ]
     },
     "metadata": {},
     "output_type": "display_data"
    }
   ],
   "source": [
    "# Same as above, but visualizing energy of chain transition\n",
    "# Should be ~1 for good convergence\n",
    "ax = az.plot_energy(model.trace_, kind='hist')\n",
    "sns.despine(ax=ax)"
   ]
  },
  {
   "cell_type": "markdown",
   "id": "4f88762a",
   "metadata": {},
   "source": [
    "**Estimate strength of schedule**\n",
    "\n",
    "---\n",
    "\n",
    "Simulate NHL results to estimate a team's strength of schedule as the win percentage of the median team playing the same schedule.\n",
    "This function returns the strength of schedule estimate for the `full` season, `played` games, and the remaining `unplayed` games."
   ]
  },
  {
   "cell_type": "markdown",
   "id": "d6dbc197-72d2-4eaa-b1e9-3850206673e9",
   "metadata": {},
   "source": [
    "**Strength of schedule for games already played**\n",
    "\n",
    "---\n",
    "\n",
    "Which teams have played the most difficult schedule so far?"
   ]
  },
  {
   "cell_type": "code",
   "execution_count": 8,
   "id": "37f9ceba-9490-4725-9303-e3c5776514cf",
   "metadata": {},
   "outputs": [
    {
     "ename": "KeyError",
     "evalue": "\"not all values found in index 'teams'. Try setting the `method` keyword argument (example: method='nearest').\"",
     "output_type": "error",
     "traceback": [
      "\u001b[0;31m---------------------------------------------------------------------------\u001b[0m",
      "\u001b[0;31mKeyError\u001b[0m                                  Traceback (most recent call last)",
      "File \u001b[0;32m~/mambaforge/envs/pymc_env/lib/python3.12/site-packages/pandas/core/indexes/base.py:3805\u001b[0m, in \u001b[0;36mIndex.get_loc\u001b[0;34m(self, key)\u001b[0m\n\u001b[1;32m   3804\u001b[0m \u001b[38;5;28;01mtry\u001b[39;00m:\n\u001b[0;32m-> 3805\u001b[0m     \u001b[38;5;28;01mreturn\u001b[39;00m \u001b[38;5;28;43mself\u001b[39;49m\u001b[38;5;241;43m.\u001b[39;49m\u001b[43m_engine\u001b[49m\u001b[38;5;241;43m.\u001b[39;49m\u001b[43mget_loc\u001b[49m\u001b[43m(\u001b[49m\u001b[43mcasted_key\u001b[49m\u001b[43m)\u001b[49m\n\u001b[1;32m   3806\u001b[0m \u001b[38;5;28;01mexcept\u001b[39;00m \u001b[38;5;167;01mKeyError\u001b[39;00m \u001b[38;5;28;01mas\u001b[39;00m err:\n",
      "File \u001b[0;32mindex.pyx:167\u001b[0m, in \u001b[0;36mpandas._libs.index.IndexEngine.get_loc\u001b[0;34m()\u001b[0m\n",
      "File \u001b[0;32mindex.pyx:196\u001b[0m, in \u001b[0;36mpandas._libs.index.IndexEngine.get_loc\u001b[0;34m()\u001b[0m\n",
      "File \u001b[0;32mpandas/_libs/hashtable_class_helper.pxi:7081\u001b[0m, in \u001b[0;36mpandas._libs.hashtable.PyObjectHashTable.get_item\u001b[0;34m()\u001b[0m\n",
      "File \u001b[0;32mpandas/_libs/hashtable_class_helper.pxi:7089\u001b[0m, in \u001b[0;36mpandas._libs.hashtable.PyObjectHashTable.get_item\u001b[0;34m()\u001b[0m\n",
      "\u001b[0;31mKeyError\u001b[0m: nan",
      "\nThe above exception was the direct cause of the following exception:\n",
      "\u001b[0;31mKeyError\u001b[0m                                  Traceback (most recent call last)",
      "File \u001b[0;32m~/mambaforge/envs/pymc_env/lib/python3.12/site-packages/xarray/core/indexes.py:773\u001b[0m, in \u001b[0;36mPandasIndex.sel\u001b[0;34m(self, labels, method, tolerance)\u001b[0m\n\u001b[1;32m    772\u001b[0m \u001b[38;5;28;01mtry\u001b[39;00m:\n\u001b[0;32m--> 773\u001b[0m     indexer \u001b[38;5;241m=\u001b[39m \u001b[38;5;28;43mself\u001b[39;49m\u001b[38;5;241;43m.\u001b[39;49m\u001b[43mindex\u001b[49m\u001b[38;5;241;43m.\u001b[39;49m\u001b[43mget_loc\u001b[49m\u001b[43m(\u001b[49m\u001b[43mlabel_value\u001b[49m\u001b[43m)\u001b[49m\n\u001b[1;32m    774\u001b[0m \u001b[38;5;28;01mexcept\u001b[39;00m \u001b[38;5;167;01mKeyError\u001b[39;00m \u001b[38;5;28;01mas\u001b[39;00m e:\n",
      "File \u001b[0;32m~/mambaforge/envs/pymc_env/lib/python3.12/site-packages/pandas/core/indexes/base.py:3812\u001b[0m, in \u001b[0;36mIndex.get_loc\u001b[0;34m(self, key)\u001b[0m\n\u001b[1;32m   3811\u001b[0m         \u001b[38;5;28;01mraise\u001b[39;00m InvalidIndexError(key)\n\u001b[0;32m-> 3812\u001b[0m     \u001b[38;5;28;01mraise\u001b[39;00m \u001b[38;5;167;01mKeyError\u001b[39;00m(key) \u001b[38;5;28;01mfrom\u001b[39;00m \u001b[38;5;21;01merr\u001b[39;00m\n\u001b[1;32m   3813\u001b[0m \u001b[38;5;28;01mexcept\u001b[39;00m \u001b[38;5;167;01mTypeError\u001b[39;00m:\n\u001b[1;32m   3814\u001b[0m     \u001b[38;5;66;03m# If we have a listlike key, _check_indexing_error will raise\u001b[39;00m\n\u001b[1;32m   3815\u001b[0m     \u001b[38;5;66;03m#  InvalidIndexError. Otherwise we fall through and re-raise\u001b[39;00m\n\u001b[1;32m   3816\u001b[0m     \u001b[38;5;66;03m#  the TypeError.\u001b[39;00m\n",
      "\u001b[0;31mKeyError\u001b[0m: nan",
      "\nThe above exception was the direct cause of the following exception:\n",
      "\u001b[0;31mKeyError\u001b[0m                                  Traceback (most recent call last)",
      "Cell \u001b[0;32mIn[8], line 2\u001b[0m\n\u001b[1;32m      1\u001b[0m \u001b[38;5;66;03m# Estimate strength of schedule for games already played\u001b[39;00m\n\u001b[0;32m----> 2\u001b[0m sos_played, team_names \u001b[38;5;241m=\u001b[39m \u001b[43mmodel\u001b[49m\u001b[38;5;241;43m.\u001b[39;49m\u001b[43msos\u001b[49m\u001b[43m(\u001b[49m\u001b[43mn\u001b[49m\u001b[38;5;241;43m=\u001b[39;49m\u001b[38;5;241;43m100\u001b[39;49m\u001b[43m,\u001b[49m\u001b[43m \u001b[49m\u001b[43mmode\u001b[49m\u001b[38;5;241;43m=\u001b[39;49m\u001b[38;5;124;43m'\u001b[39;49m\u001b[38;5;124;43mplayed\u001b[39;49m\u001b[38;5;124;43m'\u001b[39;49m\u001b[43m)\u001b[49m\n",
      "File \u001b[0;32m~/turf/src/turf/inference.py:287\u001b[0m, in \u001b[0;36m_GenericModel.sos\u001b[0;34m(self, n, mode, seed, team_names)\u001b[0m\n\u001b[1;32m    283\u001b[0m \u001b[38;5;66;03m# First play games where team is at home\u001b[39;00m\n\u001b[1;32m    284\u001b[0m \u001b[38;5;28;01mfor\u001b[39;00m jj \u001b[38;5;129;01min\u001b[39;00m \u001b[38;5;28mrange\u001b[39m(\u001b[38;5;28mlen\u001b[39m(home_games)):\n\u001b[1;32m    285\u001b[0m \n\u001b[1;32m    286\u001b[0m     \u001b[38;5;66;03m# Simulate games\u001b[39;00m\n\u001b[0;32m--> 287\u001b[0m     _, _, home_win, _ \u001b[38;5;241m=\u001b[39m \u001b[38;5;28;43mself\u001b[39;49m\u001b[38;5;241;43m.\u001b[39;49m\u001b[43msimulate_game\u001b[49m\u001b[43m(\u001b[49m\u001b[38;5;124;43m'\u001b[39;49m\u001b[38;5;124;43mmedian\u001b[39;49m\u001b[38;5;124;43m'\u001b[39;49m\u001b[43m,\u001b[49m\u001b[43m \u001b[49m\n\u001b[1;32m    288\u001b[0m \u001b[43m                                           \u001b[49m\u001b[43mhome_games\u001b[49m\u001b[38;5;241;43m.\u001b[39;49m\u001b[43miloc\u001b[49m\u001b[43m[\u001b[49m\u001b[43mjj\u001b[49m\u001b[43m]\u001b[49m\u001b[43m[\u001b[49m\u001b[38;5;124;43m'\u001b[39;49m\u001b[38;5;124;43maway_team\u001b[39;49m\u001b[38;5;124;43m'\u001b[39;49m\u001b[43m]\u001b[49m\u001b[43m,\u001b[49m\u001b[43m \u001b[49m\u001b[43mn\u001b[49m\u001b[38;5;241;43m=\u001b[39;49m\u001b[43mn\u001b[49m\u001b[43m,\u001b[49m\u001b[43m \u001b[49m\u001b[43mseed\u001b[49m\u001b[38;5;241;43m=\u001b[39;49m\u001b[43mseed\u001b[49m\u001b[43m)\u001b[49m\n\u001b[1;32m    289\u001b[0m     results\u001b[38;5;241m.\u001b[39mappend(np\u001b[38;5;241m.\u001b[39mmean(home_win))\n\u001b[1;32m    291\u001b[0m \u001b[38;5;66;03m# Then play games where team is away\u001b[39;00m\n",
      "File \u001b[0;32m~/turf/src/turf/inference.py:918\u001b[0m, in \u001b[0;36mIndependentNegativeBinomial.simulate_game\u001b[0;34m(self, home_team, away_team, n, seed, neutral_site, rng, tie_breaker_pt)\u001b[0m\n\u001b[1;32m    916\u001b[0m     away_def[jj] \u001b[38;5;241m=\u001b[39m \u001b[38;5;241m0.0\u001b[39m\n\u001b[1;32m    917\u001b[0m \u001b[38;5;28;01melse\u001b[39;00m:\n\u001b[0;32m--> 918\u001b[0m     away_att[jj] \u001b[38;5;241m=\u001b[39m \u001b[38;5;28mfloat\u001b[39m(\u001b[38;5;28;43mself\u001b[39;49m\u001b[38;5;241;43m.\u001b[39;49m\u001b[43mtrace_\u001b[49m\u001b[38;5;241;43m.\u001b[39;49m\u001b[43mposterior\u001b[49m\u001b[38;5;241;43m.\u001b[39;49m\u001b[43matts\u001b[49m\u001b[38;5;241;43m.\u001b[39;49m\u001b[43mloc\u001b[49m\u001b[43m[\u001b[49m\u001b[43mcc\u001b[49m\u001b[43m,\u001b[49m\u001b[43mii\u001b[49m\u001b[43m,\u001b[49m\u001b[43maway_team\u001b[49m\u001b[43m]\u001b[49m)\n\u001b[1;32m    919\u001b[0m     away_def[jj] \u001b[38;5;241m=\u001b[39m \u001b[38;5;28mfloat\u001b[39m(\u001b[38;5;28mself\u001b[39m\u001b[38;5;241m.\u001b[39mtrace_\u001b[38;5;241m.\u001b[39mposterior\u001b[38;5;241m.\u001b[39mdefs\u001b[38;5;241m.\u001b[39mloc[cc,ii,away_team])\n\u001b[1;32m    921\u001b[0m \u001b[38;5;66;03m# Is game played at a neutral site?\u001b[39;00m\n",
      "File \u001b[0;32m~/mambaforge/envs/pymc_env/lib/python3.12/site-packages/xarray/core/dataarray.py:238\u001b[0m, in \u001b[0;36m_LocIndexer.__getitem__\u001b[0;34m(self, key)\u001b[0m\n\u001b[1;32m    236\u001b[0m     labels \u001b[38;5;241m=\u001b[39m indexing\u001b[38;5;241m.\u001b[39mexpanded_indexer(key, \u001b[38;5;28mself\u001b[39m\u001b[38;5;241m.\u001b[39mdata_array\u001b[38;5;241m.\u001b[39mndim)\n\u001b[1;32m    237\u001b[0m     key \u001b[38;5;241m=\u001b[39m \u001b[38;5;28mdict\u001b[39m(\u001b[38;5;28mzip\u001b[39m(\u001b[38;5;28mself\u001b[39m\u001b[38;5;241m.\u001b[39mdata_array\u001b[38;5;241m.\u001b[39mdims, labels))\n\u001b[0;32m--> 238\u001b[0m \u001b[38;5;28;01mreturn\u001b[39;00m \u001b[38;5;28;43mself\u001b[39;49m\u001b[38;5;241;43m.\u001b[39;49m\u001b[43mdata_array\u001b[49m\u001b[38;5;241;43m.\u001b[39;49m\u001b[43msel\u001b[49m\u001b[43m(\u001b[49m\u001b[43mkey\u001b[49m\u001b[43m)\u001b[49m\n",
      "File \u001b[0;32m~/mambaforge/envs/pymc_env/lib/python3.12/site-packages/xarray/core/dataarray.py:1643\u001b[0m, in \u001b[0;36mDataArray.sel\u001b[0;34m(self, indexers, method, tolerance, drop, **indexers_kwargs)\u001b[0m\n\u001b[1;32m   1527\u001b[0m \u001b[38;5;28;01mdef\u001b[39;00m \u001b[38;5;21msel\u001b[39m(\n\u001b[1;32m   1528\u001b[0m     \u001b[38;5;28mself\u001b[39m,\n\u001b[1;32m   1529\u001b[0m     indexers: Mapping[Any, Any] \u001b[38;5;241m|\u001b[39m \u001b[38;5;28;01mNone\u001b[39;00m \u001b[38;5;241m=\u001b[39m \u001b[38;5;28;01mNone\u001b[39;00m,\n\u001b[0;32m   (...)\u001b[0m\n\u001b[1;32m   1533\u001b[0m     \u001b[38;5;241m*\u001b[39m\u001b[38;5;241m*\u001b[39mindexers_kwargs: Any,\n\u001b[1;32m   1534\u001b[0m ) \u001b[38;5;241m-\u001b[39m\u001b[38;5;241m>\u001b[39m Self:\n\u001b[1;32m   1535\u001b[0m \u001b[38;5;250m    \u001b[39m\u001b[38;5;124;03m\"\"\"Return a new DataArray whose data is given by selecting index\u001b[39;00m\n\u001b[1;32m   1536\u001b[0m \u001b[38;5;124;03m    labels along the specified dimension(s).\u001b[39;00m\n\u001b[1;32m   1537\u001b[0m \n\u001b[0;32m   (...)\u001b[0m\n\u001b[1;32m   1641\u001b[0m \u001b[38;5;124;03m    Dimensions without coordinates: points\u001b[39;00m\n\u001b[1;32m   1642\u001b[0m \u001b[38;5;124;03m    \"\"\"\u001b[39;00m\n\u001b[0;32m-> 1643\u001b[0m     ds \u001b[38;5;241m=\u001b[39m \u001b[38;5;28;43mself\u001b[39;49m\u001b[38;5;241;43m.\u001b[39;49m\u001b[43m_to_temp_dataset\u001b[49m\u001b[43m(\u001b[49m\u001b[43m)\u001b[49m\u001b[38;5;241;43m.\u001b[39;49m\u001b[43msel\u001b[49m\u001b[43m(\u001b[49m\n\u001b[1;32m   1644\u001b[0m \u001b[43m        \u001b[49m\u001b[43mindexers\u001b[49m\u001b[38;5;241;43m=\u001b[39;49m\u001b[43mindexers\u001b[49m\u001b[43m,\u001b[49m\n\u001b[1;32m   1645\u001b[0m \u001b[43m        \u001b[49m\u001b[43mdrop\u001b[49m\u001b[38;5;241;43m=\u001b[39;49m\u001b[43mdrop\u001b[49m\u001b[43m,\u001b[49m\n\u001b[1;32m   1646\u001b[0m \u001b[43m        \u001b[49m\u001b[43mmethod\u001b[49m\u001b[38;5;241;43m=\u001b[39;49m\u001b[43mmethod\u001b[49m\u001b[43m,\u001b[49m\n\u001b[1;32m   1647\u001b[0m \u001b[43m        \u001b[49m\u001b[43mtolerance\u001b[49m\u001b[38;5;241;43m=\u001b[39;49m\u001b[43mtolerance\u001b[49m\u001b[43m,\u001b[49m\n\u001b[1;32m   1648\u001b[0m \u001b[43m        \u001b[49m\u001b[38;5;241;43m*\u001b[39;49m\u001b[38;5;241;43m*\u001b[39;49m\u001b[43mindexers_kwargs\u001b[49m\u001b[43m,\u001b[49m\n\u001b[1;32m   1649\u001b[0m \u001b[43m    \u001b[49m\u001b[43m)\u001b[49m\n\u001b[1;32m   1650\u001b[0m     \u001b[38;5;28;01mreturn\u001b[39;00m \u001b[38;5;28mself\u001b[39m\u001b[38;5;241m.\u001b[39m_from_temp_dataset(ds)\n",
      "File \u001b[0;32m~/mambaforge/envs/pymc_env/lib/python3.12/site-packages/xarray/core/dataset.py:3125\u001b[0m, in \u001b[0;36mDataset.sel\u001b[0;34m(self, indexers, method, tolerance, drop, **indexers_kwargs)\u001b[0m\n\u001b[1;32m   3057\u001b[0m \u001b[38;5;250m\u001b[39m\u001b[38;5;124;03m\"\"\"Returns a new dataset with each array indexed by tick labels\u001b[39;00m\n\u001b[1;32m   3058\u001b[0m \u001b[38;5;124;03malong the specified dimension(s).\u001b[39;00m\n\u001b[1;32m   3059\u001b[0m \n\u001b[0;32m   (...)\u001b[0m\n\u001b[1;32m   3122\u001b[0m \n\u001b[1;32m   3123\u001b[0m \u001b[38;5;124;03m\"\"\"\u001b[39;00m\n\u001b[1;32m   3124\u001b[0m indexers \u001b[38;5;241m=\u001b[39m either_dict_or_kwargs(indexers, indexers_kwargs, \u001b[38;5;124m\"\u001b[39m\u001b[38;5;124msel\u001b[39m\u001b[38;5;124m\"\u001b[39m)\n\u001b[0;32m-> 3125\u001b[0m query_results \u001b[38;5;241m=\u001b[39m \u001b[43mmap_index_queries\u001b[49m\u001b[43m(\u001b[49m\n\u001b[1;32m   3126\u001b[0m \u001b[43m    \u001b[49m\u001b[38;5;28;43mself\u001b[39;49m\u001b[43m,\u001b[49m\u001b[43m \u001b[49m\u001b[43mindexers\u001b[49m\u001b[38;5;241;43m=\u001b[39;49m\u001b[43mindexers\u001b[49m\u001b[43m,\u001b[49m\u001b[43m \u001b[49m\u001b[43mmethod\u001b[49m\u001b[38;5;241;43m=\u001b[39;49m\u001b[43mmethod\u001b[49m\u001b[43m,\u001b[49m\u001b[43m \u001b[49m\u001b[43mtolerance\u001b[49m\u001b[38;5;241;43m=\u001b[39;49m\u001b[43mtolerance\u001b[49m\n\u001b[1;32m   3127\u001b[0m \u001b[43m\u001b[49m\u001b[43m)\u001b[49m\n\u001b[1;32m   3129\u001b[0m \u001b[38;5;28;01mif\u001b[39;00m drop:\n\u001b[1;32m   3130\u001b[0m     no_scalar_variables \u001b[38;5;241m=\u001b[39m {}\n",
      "File \u001b[0;32m~/mambaforge/envs/pymc_env/lib/python3.12/site-packages/xarray/core/indexing.py:192\u001b[0m, in \u001b[0;36mmap_index_queries\u001b[0;34m(obj, indexers, method, tolerance, **indexers_kwargs)\u001b[0m\n\u001b[1;32m    190\u001b[0m         results\u001b[38;5;241m.\u001b[39mappend(IndexSelResult(labels))\n\u001b[1;32m    191\u001b[0m     \u001b[38;5;28;01melse\u001b[39;00m:\n\u001b[0;32m--> 192\u001b[0m         results\u001b[38;5;241m.\u001b[39mappend(\u001b[43mindex\u001b[49m\u001b[38;5;241;43m.\u001b[39;49m\u001b[43msel\u001b[49m\u001b[43m(\u001b[49m\u001b[43mlabels\u001b[49m\u001b[43m,\u001b[49m\u001b[43m \u001b[49m\u001b[38;5;241;43m*\u001b[39;49m\u001b[38;5;241;43m*\u001b[39;49m\u001b[43moptions\u001b[49m\u001b[43m)\u001b[49m)\n\u001b[1;32m    194\u001b[0m merged \u001b[38;5;241m=\u001b[39m merge_sel_results(results)\n\u001b[1;32m    196\u001b[0m \u001b[38;5;66;03m# drop dimension coordinates found in dimension indexers\u001b[39;00m\n\u001b[1;32m    197\u001b[0m \u001b[38;5;66;03m# (also drop multi-index if any)\u001b[39;00m\n\u001b[1;32m    198\u001b[0m \u001b[38;5;66;03m# (.sel() already ensures alignment)\u001b[39;00m\n",
      "File \u001b[0;32m~/mambaforge/envs/pymc_env/lib/python3.12/site-packages/xarray/core/indexes.py:775\u001b[0m, in \u001b[0;36mPandasIndex.sel\u001b[0;34m(self, labels, method, tolerance)\u001b[0m\n\u001b[1;32m    773\u001b[0m                 indexer \u001b[38;5;241m=\u001b[39m \u001b[38;5;28mself\u001b[39m\u001b[38;5;241m.\u001b[39mindex\u001b[38;5;241m.\u001b[39mget_loc(label_value)\n\u001b[1;32m    774\u001b[0m             \u001b[38;5;28;01mexcept\u001b[39;00m \u001b[38;5;167;01mKeyError\u001b[39;00m \u001b[38;5;28;01mas\u001b[39;00m e:\n\u001b[0;32m--> 775\u001b[0m                 \u001b[38;5;28;01mraise\u001b[39;00m \u001b[38;5;167;01mKeyError\u001b[39;00m(\n\u001b[1;32m    776\u001b[0m                     \u001b[38;5;124mf\u001b[39m\u001b[38;5;124m\"\u001b[39m\u001b[38;5;124mnot all values found in index \u001b[39m\u001b[38;5;132;01m{\u001b[39;00mcoord_name\u001b[38;5;132;01m!r}\u001b[39;00m\u001b[38;5;124m. \u001b[39m\u001b[38;5;124m\"\u001b[39m\n\u001b[1;32m    777\u001b[0m                     \u001b[38;5;124m\"\u001b[39m\u001b[38;5;124mTry setting the `method` keyword argument (example: method=\u001b[39m\u001b[38;5;124m'\u001b[39m\u001b[38;5;124mnearest\u001b[39m\u001b[38;5;124m'\u001b[39m\u001b[38;5;124m).\u001b[39m\u001b[38;5;124m\"\u001b[39m\n\u001b[1;32m    778\u001b[0m                 ) \u001b[38;5;28;01mfrom\u001b[39;00m \u001b[38;5;21;01me\u001b[39;00m\n\u001b[1;32m    780\u001b[0m \u001b[38;5;28;01melif\u001b[39;00m label_array\u001b[38;5;241m.\u001b[39mdtype\u001b[38;5;241m.\u001b[39mkind \u001b[38;5;241m==\u001b[39m \u001b[38;5;124m\"\u001b[39m\u001b[38;5;124mb\u001b[39m\u001b[38;5;124m\"\u001b[39m:\n\u001b[1;32m    781\u001b[0m     indexer \u001b[38;5;241m=\u001b[39m label_array\n",
      "\u001b[0;31mKeyError\u001b[0m: \"not all values found in index 'teams'. Try setting the `method` keyword argument (example: method='nearest').\""
     ]
    }
   ],
   "source": [
    "# Estimate strength of schedule for games already played\n",
    "sos_played, team_names = model.sos(n=100, mode='played')"
   ]
  },
  {
   "cell_type": "code",
   "execution_count": null,
   "id": "c1825bca-4b18-4484-bfd4-8ec99267e410",
   "metadata": {},
   "outputs": [],
   "source": [
    "# Plot ordered strength of schedule\n",
    "fig, ax = plt.subplots(figsize=(10,4))\n",
    "\n",
    "# Order values by easiest to most difficult schedule\n",
    "inds = np.argsort(sos_played)[::-1]\n",
    "pri_colors = list(map(lambda x : utils._hex_color_nhl[f\"{x}_0\"], team_names))\n",
    "\n",
    "x = np.arange(len(team_names))\n",
    "for ii in range(len(x)):\n",
    "    ax.scatter(x[ii], sos_played[inds[ii]], color=pri_colors[inds[ii]])\n",
    "\n",
    "ax.set_xlabel('')\n",
    "ax.set_ylabel('Strength of schedule\\nHigher is easier' + r'$\\longrightarrow$')\n",
    "ax.set_title('Strength of schedule for games played')\n",
    "_ = ax.set_xticks(x)\n",
    "_ = ax.set_xticklabels(model._coords[\"teams\"][inds], rotation=45)\n",
    "sns.despine(ax=ax)"
   ]
  },
  {
   "cell_type": "markdown",
   "id": "8462188c-3713-4ffa-a361-2b7969de8543",
   "metadata": {},
   "source": [
    "**Strength of schedule for the rest of the season**\n",
    "\n",
    "---\n",
    "\n",
    "Which teams have the most difficult schedule remaining?"
   ]
  },
  {
   "cell_type": "code",
   "execution_count": null,
   "id": "0b40d5ea-3ec4-42f8-acb6-be9d04eb736c",
   "metadata": {},
   "outputs": [],
   "source": [
    "# Estimate strength of schedule for remaining games\n",
    "sos_unplayed, team_names = model.sos(n=100, mode='unplayed')"
   ]
  },
  {
   "cell_type": "code",
   "execution_count": null,
   "id": "af4a46b8-32d9-4a48-9fb0-700b7e19bb62",
   "metadata": {},
   "outputs": [],
   "source": [
    "# Plot ordered strength of schedule\n",
    "fig, ax = plt.subplots(figsize=(10,4))\n",
    "\n",
    "# Order values by easiest to most difficult schedule\n",
    "inds = np.argsort(sos_unplayed)[::-1]\n",
    "pri_colors = list(map(lambda x : utils._hex_color_nhl[f\"{x}_0\"], team_names))\n",
    "\n",
    "x = np.arange(len(team_names))\n",
    "for ii in range(len(x)):\n",
    "    ax.scatter(x[ii], sos_unplayed[inds[ii]], color=pri_colors[inds[ii]])\n",
    "\n",
    "ax.set_xlabel('')\n",
    "ax.set_ylabel('Strength of schedule\\nHigher is easier' + r'$\\longrightarrow$')\n",
    "ax.set_title('Strength of schedule for remaining games')\n",
    "_ = ax.set_xticks(x)\n",
    "_ = ax.set_xticklabels(model._coords[\"teams\"][inds], rotation=45)\n",
    "sns.despine(ax=ax)"
   ]
  },
  {
   "cell_type": "markdown",
   "id": "1f4d85d2-4b56-42f8-b24b-fb632aff6c7c",
   "metadata": {},
   "source": [
    "Now let's look at which teams have the biggest jump in strength of schedule, that is, which teams have the toughest remaining schedule relative to what they have already played."
   ]
  },
  {
   "cell_type": "code",
   "execution_count": null,
   "id": "9a2abe91-c8db-49c8-a063-1a6211af2cd0",
   "metadata": {},
   "outputs": [],
   "source": [
    "# Difference between played and unplayed sos\n",
    "sos_delta = sos_played - sos_unplayed\n",
    "\n",
    "# Plot ordered strength of schedule\n",
    "fig, ax = plt.subplots(figsize=(10,4))\n",
    "\n",
    "# Order values by easiest to most difficult schedule\n",
    "inds = np.argsort(sos_delta)\n",
    "pri_colors = list(map(lambda x : utils._hex_color_nhl[f\"{x}_0\"], team_names))\n",
    "\n",
    "x = np.arange(len(team_names))\n",
    "for ii in range(len(x)):\n",
    "    ax.scatter(x[ii], sos_delta[inds[ii]], color=pri_colors[inds[ii]], zorder=1)\n",
    "\n",
    "ax.axhline(0, lw=2, ls='--', color='grey', zorder=0)\n",
    "ax.text(0, 0.01, 'No difference')\n",
    "ax.set_xlabel('')\n",
    "ax.set_ylabel(r'$\\Delta$ SoS' + '\\nRemaining schedule more difficult' + r'$\\longrightarrow$')\n",
    "ax.set_title('Difference in SoS between played and remaining games')\n",
    "_ = ax.set_xticks(x)\n",
    "_ = ax.set_xticklabels(model._coords[\"teams\"][inds], rotation=45)\n",
    "sns.despine(ax=ax)"
   ]
  },
  {
   "cell_type": "markdown",
   "id": "02e3329c-0f85-452d-9257-87ca5def4d69",
   "metadata": {},
   "source": [
    "**Full season strength of schedule**\n",
    "\n",
    "---\n",
    "\n",
    "Which teams have the most difficult schedule?"
   ]
  },
  {
   "cell_type": "code",
   "execution_count": null,
   "id": "a1103548-f97c-4e02-8977-b4f19f6d56b9",
   "metadata": {},
   "outputs": [],
   "source": [
    "# Estimate strength of schedule for all games\n",
    "sos_full, team_names = model.sos(n=100, mode='full')"
   ]
  },
  {
   "cell_type": "code",
   "execution_count": null,
   "id": "0406d2f7-08e4-46aa-a498-ac31455032ea",
   "metadata": {},
   "outputs": [],
   "source": [
    "# Plot ordered strength of schedule\n",
    "fig, ax = plt.subplots(figsize=(10,4))\n",
    "\n",
    "# Order values by easiest to most difficult schedule\n",
    "inds = np.argsort(sos_full)[::-1]\n",
    "pri_colors = list(map(lambda x : utils._hex_color_nhl[f\"{x}_0\"], team_names))\n",
    "\n",
    "x = np.arange(len(team_names))\n",
    "for ii in range(len(x)):\n",
    "    ax.scatter(x[ii], sos_full[inds[ii]], color=pri_colors[inds[ii]])\n",
    "\n",
    "ax.set_xlabel('')\n",
    "ax.set_ylabel('Strength of schedule\\nHigher is easier' + r'$\\longrightarrow$')\n",
    "ax.set_title('Full season strength of schedule')\n",
    "_ = ax.set_xticks(x)\n",
    "_ = ax.set_xticklabels(model._coords[\"teams\"][inds], rotation=45)\n",
    "sns.despine(ax=ax)"
   ]
  },
  {
   "cell_type": "code",
   "execution_count": null,
   "id": "1c784401-dafe-45b5-9600-7fe01a485d54",
   "metadata": {},
   "outputs": [],
   "source": [
    "# Plot ordered strength of schedule\n",
    "fig, ax = plt.subplots(figsize=(10,4))\n",
    "\n",
    "# Order values by easiest to most difficult schedule\n",
    "inds = np.argsort(sos_full)[::-1]\n",
    "pri_colors = list(map(lambda x : utils._hex_color_nhl[f\"{x}_0\"], team_names))\n",
    "\n",
    "x = np.arange(len(team_names))\n",
    "for ii in range(len(x)):\n",
    "    # Plot difference between played and unplayed SoS\n",
    "    ax.plot([x[ii], x[ii]],\n",
    "            [sos_unplayed[inds[ii]], sos_played[inds[ii]]], \n",
    "            color=pri_colors[inds[ii]], zorder=1, lw=2, alpha=0.6)\n",
    "\n",
    "    # Plot individual points\n",
    "    ax.scatter(x[ii], sos_unplayed[inds[ii]], color=pri_colors[inds[ii]], marker='s')\n",
    "    ax.scatter(x[ii], sos_played[inds[ii]], color=pri_colors[inds[ii]])\n",
    "\n",
    "# Dummy points for legend\n",
    "ax.scatter(100, 0.5, color='grey', marker='o', label='Played games SoS')\n",
    "ax.scatter(100, 0.5, color='grey', marker='s', label='Unplayed games SoS')\n",
    "\n",
    "# Format\n",
    "ax.legend(loc='upper right', framealpha=0.5)\n",
    "ax.set_xlim(np.min(x)-1, np.max(x)+1)\n",
    "ax.set_xlabel('')\n",
    "ax.set_ylabel('Strength of schedule\\nHigher is easier' + r'$\\longrightarrow$')\n",
    "ax.set_title('Difference in SoS between played and remaining games, ordered by season SoS')\n",
    "_ = ax.set_xticks(x)\n",
    "_ = ax.set_xticklabels(model._coords[\"teams\"][inds], rotation=45)\n",
    "sns.despine(ax=ax)"
   ]
  },
  {
   "cell_type": "markdown",
   "id": "62178ffc-d780-4a78-85bc-bc9e4a46f0f0",
   "metadata": {},
   "source": [
    "**Documentation**\n",
    "\n",
    "---\n",
    "\n",
    "Check out the function and its docstring for more information on how it works and how to use it."
   ]
  },
  {
   "cell_type": "code",
   "execution_count": null,
   "id": "5ca6bde0-57b3-4f42-aed3-ab5fc59af212",
   "metadata": {},
   "outputs": [],
   "source": [
    "# Check out the function for estimating the strength of schedule\n",
    "model.sos??"
   ]
  },
  {
   "cell_type": "code",
   "execution_count": null,
   "id": "d56a0179-c84a-4f39-aae6-92c8760e81c1",
   "metadata": {},
   "outputs": [],
   "source": []
  }
 ],
 "metadata": {
  "kernelspec": {
   "display_name": "Python 3 (ipykernel)",
   "language": "python",
   "name": "python3"
  },
  "language_info": {
   "codemirror_mode": {
    "name": "ipython",
    "version": 3
   },
   "file_extension": ".py",
   "mimetype": "text/x-python",
   "name": "python",
   "nbconvert_exporter": "python",
   "pygments_lexer": "ipython3",
   "version": "3.12.3"
  }
 },
 "nbformat": 4,
 "nbformat_minor": 5
}
